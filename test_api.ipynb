{
 "cells": [
  {
   "cell_type": "code",
   "execution_count": 1,
   "metadata": {},
   "outputs": [
    {
     "name": "stderr",
     "output_type": "stream",
     "text": [
      "/home/codespace/.local/lib/python3.12/site-packages/tqdm/auto.py:21: TqdmWarning: IProgress not found. Please update jupyter and ipywidgets. See https://ipywidgets.readthedocs.io/en/stable/user_install.html\n",
      "  from .autonotebook import tqdm as notebook_tqdm\n"
     ]
    }
   ],
   "source": [
    "import os\n",
    "import google.generativeai as genai\n",
    "import streamlit as st\n"
   ]
  },
  {
   "cell_type": "code",
   "execution_count": 2,
   "metadata": {},
   "outputs": [
    {
     "name": "stdout",
     "output_type": "stream",
     "text": [
      "API Test Result: API is working! \n",
      "\n",
      "\n",
      "API key is configured correctly!\n"
     ]
    }
   ],
   "source": [
    "# Load API key from .streamlit/secrets.toml\n",
    "try:\n",
    "    api_key = st.secrets[\"api_keys\"][\"google_gemini\"]\n",
    "    genai.configure(api_key=api_key)\n",
    "    \n",
    "    # Try to initialize the model\n",
    "    model = genai.GenerativeModel(\"gemini-1.5-flash\")\n",
    "    \n",
    "    # Test the API with a simple prompt\n",
    "    response = model.generate_content(\"Say 'API is working!'\")\n",
    "    print(\"API Test Result:\", response.text)\n",
    "    print(\"\\nAPI key is configured correctly!\")\n",
    "    \n",
    "except Exception as e:\n",
    "    print(\"Error testing API key:\", str(e))\n",
    "    print(\"\\nPlease check your API key in .streamlit/secrets.toml\")"
   ]
  },
  {
   "cell_type": "code",
   "execution_count": 3,
   "metadata": {},
   "outputs": [
    {
     "name": "stdout",
     "output_type": "stream",
     "text": [
      "Diagnosis: Possible causes include stress, dehydration, or lack of sleep.\n"
     ]
    }
   ],
   "source": [
    "# Test the diagnose function\n",
    "def test_diagnose():\n",
    "    symptoms = \"headache\"\n",
    "    prompt = f\"Patient reports: {symptoms}. What could be wrong?\"\n",
    "    model = genai.GenerativeModel(\"gemini-1.5-flash\")\n",
    "    response = model.generate_content(prompt)\n",
    "    return response.text\n",
    "\n",
    "diagnosis = test_diagnose()\n",
    "print(\"Diagnosis:\", diagnosis)\n"
   ]
  },
  {
   "cell_type": "code",
   "execution_count": 4,
   "metadata": {},
   "outputs": [
    {
     "name": "stdout",
     "output_type": "stream",
     "text": [
      "Health Data Analysis: The health data indicates normal vital signs.\n"
     ]
    }
   ],
   "source": [
    "# Test the analyze_health_data function\n",
    "def test_analyze_health_data():\n",
    "    health_data = \"temperature: 98.6, blood pressure: 120/80, heart rate: 70\"\n",
    "    prompt = f\"Analyze the following health data: {health_data}\"\n",
    "    model = genai.GenerativeModel(\"gemini-1.5-flash\")\n",
    "    response = model.generate_content(prompt)\n",
    "    return response.text\n",
    "\n",
    "analysis = test_analyze_health_data()\n",
    "print(\"Health Data Analysis:\", analysis)\n"
   ]
  },
  {
   "cell_type": "code",
   "execution_count": 5,
   "metadata": {},
   "outputs": [
    {
     "name": "stdout",
     "output_type": "stream",
     "text": [
      "Chatbot Response: It is recommended to drink plenty of water and rest.\n"
     ]
    }
   ],
   "source": [
    "# Test the ask_chatbot function\n",
    "def test_ask_chatbot():\n",
    "    question = \"What should I do for a headache?\"\n",
    "    prompt = f\"Question: {question}\"\n",
    "    model = genai.GenerativeModel(\"gemini-1.5-flash\")\n",
    "    response = model.generate_content(prompt)\n",
    "    return response.text\n",
    "\n",
    "answer = test_ask_chatbot()\n",
    "print(\"Chatbot Response:\", answer)\n"
   ]
  }
 ],
 "metadata": {
  "language_info": {
   "name": "python"
  }
 },
 "nbformat": 4,
 "nbformat_minor": 2
}

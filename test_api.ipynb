{
 "cells": [
  {
   "cell_type": "code",
   "execution_count": 1,
   "metadata": {},
   "outputs": [
    {
     "name": "stderr",
     "output_type": "stream",
     "text": [
      "/home/codespace/.local/lib/python3.12/site-packages/tqdm/auto.py:21: TqdmWarning: IProgress not found. Please update jupyter and ipywidgets. See https://ipywidgets.readthedocs.io/en/stable/user_install.html\n",
      "  from .autonotebook import tqdm as notebook_tqdm\n"
     ]
    }
   ],
   "source": [
    "import os\n",
    "import google.generativeai as genai\n",
    "import streamlit as st\n"
   ]
  },
  {
   "cell_type": "code",
   "execution_count": 2,
   "metadata": {},
   "outputs": [
    {
     "name": "stdout",
     "output_type": "stream",
     "text": [
      "API Test Result: API is working! \n",
      "\n",
      "\n",
      "API key is configured correctly!\n"
     ]
    }
   ],
   "source": [
    "# Load API key from .streamlit/secrets.toml\n",
    "try:\n",
    "    api_key = st.secrets[\"api_keys\"][\"google_gemini\"]\n",
    "    genai.configure(api_key=api_key)\n",
    "    \n",
    "    # Try to initialize the model\n",
    "    model = genai.GenerativeModel(\"gemini-1.5-flash\")\n",
    "    \n",
    "    # Test the API with a simple prompt\n",
    "    response = model.generate_content(\"Say 'API is working!'\")\n",
    "    print(\"API Test Result:\", response.text)\n",
    "    print(\"\\nAPI key is configured correctly!\")\n",
    "    \n",
    "except Exception as e:\n",
    "    print(\"Error testing API key:\", str(e))\n",
    "    print(\"\\nPlease check your API key in .streamlit/secrets.toml\")"
   ]
  },
  {
   "cell_type": "code",
   "execution_count": null,
   "metadata": {},
   "outputs": [],
   "source": []
  }
 ],
 "metadata": {
  "language_info": {
   "name": "python"
  }
 },
 "nbformat": 4,
 "nbformat_minor": 2
}
